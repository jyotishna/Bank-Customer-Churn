{
  "nbformat": 4,
  "nbformat_minor": 0,
  "metadata": {
    "colab": {
      "provenance": [],
      "include_colab_link": true
    },
    "kernelspec": {
      "name": "python3",
      "display_name": "Python 3"
    },
    "language_info": {
      "name": "python"
    }
  },
  "cells": [
    {
      "cell_type": "markdown",
      "metadata": {
        "id": "view-in-github",
        "colab_type": "text"
      },
      "source": [
        "<a href=\"https://colab.research.google.com/github/jyotishna/Bank-Customer-Churn/blob/main/05_NN_Layer_BackPropagation_(4).ipynb\" target=\"_parent\"><img src=\"https://colab.research.google.com/assets/colab-badge.svg\" alt=\"Open In Colab\"/></a>"
      ]
    },
    {
      "cell_type": "markdown",
      "source": [
        "\n",
        "\n",
        "- **BackPropagation**\n",
        "  - [backpropagation](https://www.scaler.com/hire/test/problem/17679/)\n",
        "  - [Backpropagation in MLP](https://www.scaler.com/hire/test/problem/19831/)\n",
        "  - [Complete the code](https://www.scaler.com/hire/test/problem/19738/)\n",
        "  - [Weight's value](https://www.scaler.com/hire/test/problem/20676/)\n",
        "\n",
        "\n",
        "\n",
        "\n",
        "- **Code walkthrough**\n",
        "    \n",
        "    - [Calculate the loss](https://www.scaler.com/hire/test/problem/21618/) - H/W\n",
        "\n",
        "\n",
        "\n",
        "- **MLP using sklearn**\n",
        "\n",
        "\n"
      ],
      "metadata": {
        "id": "46nAonuvKj0l"
      }
    },
    {
      "cell_type": "markdown",
      "source": [
        "## Backpropagation"
      ],
      "metadata": {
        "id": "xT3kKmiYhhuG"
      }
    },
    {
      "cell_type": "code",
      "source": [
        "import pandas as pd\n",
        "import numpy as np"
      ],
      "metadata": {
        "id": "ZLYwdCpdgNYy"
      },
      "execution_count": null,
      "outputs": []
    },
    {
      "cell_type": "code",
      "source": [
        "!gdown 1dLOPwh01o3k8p_hK633ixhD1ehz6nNWk\n",
        "df = pd.read_csv(\"/content/spiral.csv\")\n",
        "\n",
        "# Separating feature and label columns\n",
        "X = df.iloc[:, :-1].to_numpy()\n",
        "y = df.iloc[:, -1].to_numpy()"
      ],
      "metadata": {
        "colab": {
          "base_uri": "https://localhost:8080/"
        },
        "id": "b2DwJZ28gJxB",
        "outputId": "7adf6144-6e24-4c1a-f501-78a0b60bc5c9"
      },
      "execution_count": null,
      "outputs": [
        {
          "output_type": "stream",
          "name": "stdout",
          "text": [
            "Downloading...\n",
            "From: https://drive.google.com/uc?id=1dLOPwh01o3k8p_hK633ixhD1ehz6nNWk\n",
            "To: /content/spiral.csv\n",
            "\r  0% 0.00/12.9k [00:00<?, ?B/s]\r100% 12.9k/12.9k [00:00<00:00, 27.4MB/s]\n"
          ]
        }
      ]
    },
    {
      "cell_type": "markdown",
      "source": [
        "Now, let's get back to our NN network"
      ],
      "metadata": {
        "id": "KVfSGd_aHqlr"
      }
    },
    {
      "cell_type": "markdown",
      "source": [
        "<center><img src='https://drive.google.com/uc?id=1PWWndBIY0xFSxY7E06DEoTH9-JNuZryf' width=\"700\"></center>\n",
        "\n"
      ],
      "metadata": {
        "id": "bkjAr2U6Hyh-"
      }
    },
    {
      "cell_type": "markdown",
      "source": [
        "#### How'll computational graph look for above NN ?"
      ],
      "metadata": {
        "id": "TbKCU6nAIKsV"
      }
    },
    {
      "cell_type": "markdown",
      "source": [
        "\n",
        "\n",
        "\n",
        "<center><img src='https://drive.google.com/uc?id=1aAZ3E7rr0wh-y_V2lqL0m3XjpLmbs2da' width=\"700\"></center>\n",
        "\n",
        "\n",
        "\n",
        "\n"
      ],
      "metadata": {
        "id": "8P8sGIHoIU44"
      }
    },
    {
      "cell_type": "markdown",
      "metadata": {
        "id": "NenozJcZrEWE"
      },
      "source": [
        "### Forward Propagation"
      ]
    },
    {
      "cell_type": "markdown",
      "source": [
        "Now, we need to calculate $Z^2$,\n",
        "- for this we multiply each row of X with each column of W1\n",
        "- add bias to it (using broadcasting)\n",
        "\n",
        "\n",
        "The formulation comes out to be:\n",
        "\n",
        "$$X.W + b$$"
      ],
      "metadata": {
        "id": "JnXJolbZt133"
      }
    },
    {
      "cell_type": "code",
      "source": [
        "import numpy as np\n",
        "# initialize parameters randomly\n",
        "d = 2 # diensionality / number of inputs\n",
        "n = 3 # Number of classes (A/B/C) / Number of neurons in output layer\n",
        "h = 4 # neurons in hidden layer"
      ],
      "metadata": {
        "id": "UpSGuRU0y5oW"
      },
      "execution_count": null,
      "outputs": []
    },
    {
      "cell_type": "markdown",
      "source": [
        "Let;s intitialise these matrices randomly."
      ],
      "metadata": {
        "id": "IHJReVDzyzwv"
      }
    },
    {
      "cell_type": "code",
      "execution_count": null,
      "metadata": {
        "id": "UCY9Gn0lrEWE"
      },
      "outputs": [],
      "source": [
        "W1 = 0.01 * np.random.randn(d,h)\n",
        "b1 = np.zeros((1,h))\n",
        "W2 = 0.01 * np.random.randn(h,n)\n",
        "b2 = np.zeros((1,n))"
      ]
    },
    {
      "cell_type": "code",
      "execution_count": null,
      "metadata": {
        "id": "X2faLFmnrEWE"
      },
      "outputs": [],
      "source": [
        "Z1 = np.dot(X, W1) + b1 # (300,2) x (2,4) + (1,4) => (300,4)\n",
        "A1 = np.maximum(0, Z1) # ReLU if Z1 < 0 A1 =0 else A1 = Z1"
      ]
    },
    {
      "cell_type": "markdown",
      "source": [
        "#### Calculation Z2 and A2"
      ],
      "metadata": {
        "id": "u57B3T81uOXU"
      }
    },
    {
      "cell_type": "markdown",
      "source": [
        "Now, in order to get shape of (300,3)\n",
        "- we need to multiply $A^1$ with $W^2$ and add bias $b^2$ to it\n"
      ],
      "metadata": {
        "id": "sBMxydYkx0p6"
      }
    },
    {
      "cell_type": "code",
      "source": [
        "Z2 = np.dot(A1, W2) + b2  # (300, 4) x (4, 3) + (1, 3) => (300, 3)\n",
        "# Applying softmax function to get A2\n",
        "Z2_exp = np.exp(Z2)\n",
        "A2 = Z2_exp/np.sum(Z2_exp, axis=1, keepdims=True)\n",
        "probs = A2"
      ],
      "metadata": {
        "id": "d8hQfcg7e8Tp"
      },
      "execution_count": null,
      "outputs": []
    },
    {
      "cell_type": "markdown",
      "metadata": {
        "id": "XC1h07UxrEWE"
      },
      "source": [
        "- Notice that the only change from before is one extra line of code.\n",
        "- We first compute the hidden layer representation and considered that as an input to the output layer."
      ]
    },
    {
      "cell_type": "markdown",
      "source": [
        "<center><img src='https://drive.google.com/uc?id=1XOhwDbTokMed7Xg82bUXDd9L4H4vNZE3' width=\"700\"></center>\n",
        "\n",
        "\n",
        "\n",
        "\n"
      ],
      "metadata": {
        "id": "QOcmp1F8L-7f"
      }
    },
    {
      "cell_type": "markdown",
      "metadata": {
        "id": "uLLKODN9rEWE"
      },
      "source": [
        "### Loss\n",
        "\n",
        "#### Question: Will the loss change?\n",
        "\n",
        "No\n",
        "\n",
        "### Backpropagation\n",
        "\n",
        "#### Will the gradient calculation change?\n",
        "\n",
        "No, but, we would have to backpropagate the gradients for one additional layer."
      ]
    },
    {
      "cell_type": "code",
      "execution_count": null,
      "metadata": {
        "id": "djjOv187rEWE"
      },
      "outputs": [],
      "source": [
        "# Number of training examples\n",
        "m = y.shape[0] # 300 datapoints"
      ]
    },
    {
      "cell_type": "markdown",
      "source": [
        "#### Calculating dz2"
      ],
      "metadata": {
        "id": "KVq2uZLip5t1"
      }
    },
    {
      "cell_type": "markdown",
      "source": [
        "<center><img src='https://drive.google.com/uc?id=1LTeDUnS2efPF07Ah2BRFyJccX1DsSeUt' width=\"700\"></center>\n",
        "\n",
        "\n",
        "\n"
      ],
      "metadata": {
        "id": "m5MxEogZcIMe"
      }
    },
    {
      "cell_type": "markdown",
      "source": [
        "$$dZ^2 = \\frac{∂L}{∂Z^2}$$\n",
        "\n",
        "\n",
        "So,\n",
        "\n",
        "$$\\frac{∂L}{∂Z^2} = \\frac{∂L}{∂A^2}.\\frac{∂A^2}{∂Z^2}$$\n",
        "\n",
        "Here, $A^2$ is our output probabilities.\n",
        "- Replaceing $A^2$ with $p$\n",
        "\n",
        "$$\\frac{∂L}{∂Z^2} = \\frac{∂L}{∂p}.\\frac{∂p}{∂Z^2}$$\n",
        "\n",
        "#### Doesn't this look familiar ?\n",
        "\n",
        "- This is similar to what we calculated previously i.e derivative of Loss w.r.t to Z\n",
        "\n",
        "$$dz=\\frac{\\partial J}{\\partial p} \\frac{\\partial p}{\\partial z}$$\n",
        "\n",
        "- The derivative came out to be : $dz = (p_i - I (i=y))$\n",
        "\n",
        "\n",
        "Hence, $dZ_2 = (p_i - I (i=y))$\n",
        "\n",
        "\n"
      ],
      "metadata": {
        "id": "lNpgXmNpp83F"
      }
    },
    {
      "cell_type": "code",
      "source": [
        "dZ2 = probs\n",
        "dZ2[range(m),y] -= 1"
      ],
      "metadata": {
        "id": "FE0y547c5JB9"
      },
      "execution_count": null,
      "outputs": []
    },
    {
      "cell_type": "markdown",
      "source": [
        "#### What will be the shape of dZ2 ?"
      ],
      "metadata": {
        "id": "vAA8ofaUysdB"
      }
    },
    {
      "cell_type": "markdown",
      "source": [
        "As dZ2 is same as probabilties,\n",
        "- its shape will be (m,3) or (300, 3)"
      ],
      "metadata": {
        "id": "ZXfBit3PzAKn"
      }
    },
    {
      "cell_type": "markdown",
      "source": [
        "#### Calculating $dW^2$ and $db^2$"
      ],
      "metadata": {
        "id": "Xjyuvgfmr1in"
      }
    },
    {
      "cell_type": "markdown",
      "metadata": {
        "id": "MCwJ4_MPrEWF"
      },
      "source": [
        "Gradient calculation for $dW^2$ and $db^2$ will also be similar to $dW$ and $db$ in the softmax classifier case"
      ]
    },
    {
      "cell_type": "markdown",
      "source": [
        "<center><img src='https://drive.google.com/uc?id=1uLs3BG6wmrriUuOPkTPHbrqSQOA8B7U6' width=\"700\"></center>\n",
        "\n",
        "\n",
        "\n"
      ],
      "metadata": {
        "id": "XhaSXlTRtISQ"
      }
    },
    {
      "cell_type": "markdown",
      "source": [
        "$$dW^2 = \\frac{∂L}{∂W^2} = \\frac{∂L}{∂A^2}.\\frac{∂A^2}{∂Z^2}.\\frac{∂Z^2}{∂W^2}$$\n",
        "\n",
        "$$= dZ^2.\\frac{∂Z^2}{∂W^2}$$\n",
        "\n",
        "Here, $Z^2 = W^{2^{T}}.A^1 + b^2$\n",
        "\n",
        "So, $\\frac{∂Z^2}{∂W^2} = A^1$\n",
        "\n",
        "$$dW^2 = \\frac{∂L}{∂W^2} = dZ^2 . A^1$$\n",
        "\n",
        "\n"
      ],
      "metadata": {
        "id": "cCQ1g0TmuBcC"
      }
    },
    {
      "cell_type": "markdown",
      "source": [
        "#### How to do mat mul for dW2  ?"
      ],
      "metadata": {
        "id": "9x68P15mzLRZ"
      }
    },
    {
      "cell_type": "markdown",
      "source": [
        "- Shape of dZ2 = (300, 3)\n",
        "- Shape of A1 = (300, 4)\n",
        "\n",
        "#### What should be the shape of dW2 ?\n",
        "\n",
        "We know that dW2 will be used for updating $W^2$\n",
        "- its shape should match of $W^2$\n",
        "\n",
        "Hence, shape of dW2 will be (4,3)\n",
        "\n"
      ],
      "metadata": {
        "id": "_FVVYHZ81R61"
      }
    },
    {
      "cell_type": "markdown",
      "source": [
        "We have to multipy $dZ^2$ and $A^1$\n",
        "- such that we get (4,3)\n",
        "\n",
        "For that, we take a transpose of A1 and multiply it with dW2.\n",
        "\n",
        "=> $A_1^T. dZ^2$ = (4, 300) x (300, 3) = (4, 3)"
      ],
      "metadata": {
        "id": "XR0kiHkg1lnV"
      }
    },
    {
      "cell_type": "markdown",
      "source": [
        "<center><img src='https://drive.google.com/uc?id=1JE6a4iXmFJO_Uno_OlUdccZ6hSMT4mGi' width=\"700\"></center>\n",
        "\n"
      ],
      "metadata": {
        "id": "95N-MebY1Nwh"
      }
    },
    {
      "cell_type": "code",
      "execution_count": null,
      "metadata": {
        "id": "TjY5p67hrEWF"
      },
      "outputs": [],
      "source": [
        "# shape A1 => (300,4)  shape dZ2 (equal to probability)=> (300,3)\n",
        "dW2 = np.dot(A1.T, dZ2)/m # shape => (4, 300) x (300, 3) => (4,3)"
      ]
    },
    {
      "cell_type": "markdown",
      "source": [
        "#### But, why are we dividing by m ?"
      ],
      "metadata": {
        "id": "sumY4y07_P4V"
      }
    },
    {
      "cell_type": "markdown",
      "source": [
        "Recall that in GD,\n",
        "- as we are using all datapoints for calculating the updated w\n",
        "    - we take average of it by dividing it by total number of datapoints"
      ],
      "metadata": {
        "id": "gY04HPvNAPy2"
      }
    },
    {
      "cell_type": "markdown",
      "source": [
        "<center><img src='https://drive.google.com/uc?id=1d-Oqw5zbGhS3zin_mnycATtK3hOsPDvd' width=\"700\"></center>\n"
      ],
      "metadata": {
        "id": "zGWGgqoP_YEB"
      }
    },
    {
      "cell_type": "markdown",
      "source": [
        "#### Where all do we need to divide by m ?\n",
        "$ $\n",
        "Our goal is to update weights and biases\n",
        "- so we can either do with while calculating the derivates dW2, db2, dW1, db1 (like we are doing)\n",
        "- or we can do it when updating the weights\n",
        "    - i.e. $w^1 = w^1 - η.dw^1.\\frac{1}{m}$"
      ],
      "metadata": {
        "id": "QYpJ9nz9Aelv"
      }
    },
    {
      "cell_type": "markdown",
      "source": [
        "Similarly, we calculate db2"
      ],
      "metadata": {
        "id": "TAmY_3VXt6EL"
      }
    },
    {
      "cell_type": "markdown",
      "source": [
        "<center><img src='https://drive.google.com/uc?id=1ZOXIPvQUsnz8OwvooZ6LWTLKutDULdga' width=\"700\"></center>\n",
        "\n",
        "\n",
        "\n",
        "\n"
      ],
      "metadata": {
        "id": "gcoDFQG-wxO6"
      }
    },
    {
      "cell_type": "markdown",
      "source": [
        "$$db^2 = \\frac{∂L}{∂b^2} = \\frac{∂L}{∂A^2}.\\frac{∂A^2}{∂Z^2}.\\frac{∂Z^2}{∂b^2}$$\n",
        "\n",
        "Now,\n",
        "\n",
        "$$\\frac{∂Z^2}{∂b^2} = \\frac{∂(W^2A^1 + b^2)}{db^2} = 1$$\n",
        "\n",
        "$$db^2 = \\frac{∂L}{∂b^2} = \\frac{∂L}{∂A^2}.\\frac{∂A^2}{∂Z^2}.1 = dZ^2$$\n"
      ],
      "metadata": {
        "id": "Dxg9EqXZw_2r"
      }
    },
    {
      "cell_type": "markdown",
      "source": [
        "#### Question:  What will be the shape of db2 ?"
      ],
      "metadata": {
        "id": "7fFf3o9T2IP1"
      }
    },
    {
      "cell_type": "markdown",
      "source": [
        "We know that db2 will be used to update $b^2$\n",
        "- so their shape should match\n",
        "\n",
        "Hence, Shape of db2 = (1,3)"
      ],
      "metadata": {
        "id": "BP8lb9EWaMGf"
      }
    },
    {
      "cell_type": "markdown",
      "source": [
        "But, dZ2 shape is (300, 3)\n",
        "\n",
        "Now, recall that we are doing GD not SGD.\n",
        "- we need to sum up the derivates across across the rows and then average it out before using it for update\n"
      ],
      "metadata": {
        "id": "u47nIfTPaU4V"
      }
    },
    {
      "cell_type": "markdown",
      "source": [
        "<center><img src='https://drive.google.com/uc?id=1ES5B4mTwP6hhAbo1-EZaMkaF4bupg06M' width=\"700\"></center>\n",
        "\n",
        "\n"
      ],
      "metadata": {
        "id": "cU9N4RDb43pH"
      }
    },
    {
      "cell_type": "markdown",
      "source": [
        "- So, we'll take the sum across the row"
      ],
      "metadata": {
        "id": "p_3GhI9rapWx"
      }
    },
    {
      "cell_type": "code",
      "source": [
        "db2 = np.sum(dZ2, axis=0, keepdims=True)/m # shape (1 ,3)"
      ],
      "metadata": {
        "id": "BMAJYaUUt5ZY"
      },
      "execution_count": null,
      "outputs": []
    },
    {
      "cell_type": "markdown",
      "metadata": {
        "id": "VkFcUS5crEWF"
      },
      "source": [
        "However, unlike earlier, we are not done yet, because $A^2$ is also a function of $Z^1$, and indirectly of ($W^1$ and $b^1$)\n",
        "- We still need to calculate $dW^1$ and $db^1$\n",
        "- So, we would need to calculate $dZ^1$, followed by $dW^1$ and $dW^2$"
      ]
    },
    {
      "cell_type": "markdown",
      "source": [
        "#### Calculating $dA^1$"
      ],
      "metadata": {
        "id": "0YJ6aidmx8Gq"
      }
    },
    {
      "cell_type": "markdown",
      "source": [
        "<center><img src='https://drive.google.com/uc?id=1QLxk1Kaw-ZuEHt3jgUS7Ud7377IWt9kW' width=\"700\"></center>\n",
        "\n",
        "\n",
        "\n",
        "\n",
        "\n"
      ],
      "metadata": {
        "id": "EmTimJIhytPp"
      }
    },
    {
      "cell_type": "markdown",
      "source": [
        "$$dA^1 = \\frac{∂L}{∂A^1} = \\frac{∂L}{∂A^2}.\\frac{∂A^2}{∂Z^2}.\\frac{∂Z^2}{∂A^1}$$\n",
        "\n",
        "\n",
        "We know that, $$\\frac{∂L}{∂A^2}.\\frac{∂A^2}{∂Z^2} = dZ^2$$\n",
        "\n",
        "Now,\n",
        "\n",
        "$$\\frac{∂Z^2}{∂A^1} = \\frac{∂(W^2A^1 + b^2)}{dA^1} = W^2$$\n",
        "\n",
        "\n",
        "$$dA^1 =\\frac{∂L}{∂A^2}.\\frac{∂A^2}{∂Z^2}.W^2 = dZ^2.W^2$$\n"
      ],
      "metadata": {
        "id": "Zl0fOfJUzwQ0"
      }
    },
    {
      "cell_type": "markdown",
      "source": [
        "#### What will be the shape of dA1?\n",
        "\n"
      ],
      "metadata": {
        "id": "w3KWLcxQ5oGH"
      }
    },
    {
      "cell_type": "markdown",
      "source": [
        "<center><img src='https://drive.google.com/uc?id=13wUYyovmm6UTPVJ4asWfWdiBPkcvcf_A' width=\"700\"></center>\n",
        "\n",
        "\n",
        "\n",
        "\n",
        "\n"
      ],
      "metadata": {
        "id": "aFKda7I579ra"
      }
    },
    {
      "cell_type": "markdown",
      "source": [
        "Shape of $dA^1$ will be same as $A^1$ => (300, 4)\n",
        "\n"
      ],
      "metadata": {
        "id": "9zsyIVge8K6V"
      }
    },
    {
      "cell_type": "markdown",
      "source": [
        "#### What will be the shape of $dZ^1$ ?\n",
        "- Same as $Z^1$ => (300, 4)"
      ],
      "metadata": {
        "id": "XlwMMVIVazKX"
      }
    },
    {
      "cell_type": "markdown",
      "source": [
        "#### What will be the matrix multiplication  then?"
      ],
      "metadata": {
        "id": "hT9namcB9L1M"
      }
    },
    {
      "cell_type": "markdown",
      "source": [
        "<center><img src='https://drive.google.com/uc?id=14JsUS-VrzKDeVScDMGOhR7b8DRJd6MII' width=\"700\"></center>\n",
        "\n"
      ],
      "metadata": {
        "id": "WrUBKHlP9vzT"
      }
    },
    {
      "cell_type": "markdown",
      "source": [
        "Now that, we have all the shapes\n",
        "- $dZ^2$ = (300, 3)\n",
        "- $W^2$ = (4,3)\n",
        "\n",
        "We need a final shape of (300, 4)\n",
        "\n",
        "So, we will have to\n",
        "- multiply dZ2 with transpose of $W^2$\n",
        "- (300, 3) x (3, 4) => (300, 4)\n",
        "\n",
        "$$dA^1 = dZ^2.W^{2^{T}}$$"
      ],
      "metadata": {
        "id": "CxWtG2Q19RTd"
      }
    },
    {
      "cell_type": "code",
      "execution_count": null,
      "metadata": {
        "id": "-1_fc6GDrEWF"
      },
      "outputs": [],
      "source": [
        "dA1 = np.dot(dZ2, W2.T) # (300,3) x (3 , 4) => (300, 4)"
      ]
    },
    {
      "cell_type": "markdown",
      "source": [
        "#### Calculating $dZ^1$"
      ],
      "metadata": {
        "id": "_YXNa9Px0sXd"
      }
    },
    {
      "cell_type": "markdown",
      "metadata": {
        "id": "62HBVo7xrEWF"
      },
      "source": [
        " Now, we have to pass back through the ReLU layer to calculate the gradient $dZ_1$"
      ]
    },
    {
      "cell_type": "markdown",
      "source": [
        "<center><img src='https://drive.google.com/uc?id=1A3ZdZS9a-1Ta-1Lk6xYGCVOCDbF0muNs' width=\"700\"></center>\n",
        "\n",
        "\n",
        "\n",
        "\n",
        "\n"
      ],
      "metadata": {
        "id": "lryS3eDq1Zm4"
      }
    },
    {
      "cell_type": "markdown",
      "source": [
        "$$ \\frac{∂L}{∂Z^1} = \\frac{∂L}{∂A^2}.\\frac{∂A^2}{∂Z^2}.\\frac{∂Z^2}{∂A^1}.\\frac{∂A^1}{∂Z^1}$$\n",
        "\n",
        "We know that,\n",
        "\n",
        "$$\\frac{∂L}{∂A^2}.\\frac{∂A^2}{∂Z^2}.\\frac{∂Z^2}{∂A^1} = dA^1 $$\n",
        "\n",
        "\n",
        "We have to calculate $\\frac{∂A^1}{∂Z^1}$"
      ],
      "metadata": {
        "id": "yCCb5lqU3QRQ"
      }
    },
    {
      "cell_type": "markdown",
      "source": [
        "<center><img src='https://drive.google.com/uc?id=1v2agZ0GS-iFu6HtLSTvlJzIU-IjpwtVh' width=\"700\"></center>\n",
        "\n"
      ],
      "metadata": {
        "id": "dBj0T6DN5cRc"
      }
    },
    {
      "cell_type": "markdown",
      "source": [
        "<center><img src='https://drive.google.com/uc?id=1nSSN8JUfFjT2Fne9ioVd7NtvkiumIaXB' width=\"700\"></center>\n",
        "\n"
      ],
      "metadata": {
        "id": "n-eKtKlq6Dzo"
      }
    },
    {
      "cell_type": "code",
      "execution_count": null,
      "metadata": {
        "id": "SyCkJcxRrEWF"
      },
      "outputs": [],
      "source": [
        "dA1[Z1 <= 0] = 0 # was dA1[A1 <= 0] = 0. changed it to dA1[Z1 <= 0] = 0\n",
        "dZ1 = dA1 # same shape as dA1 (300, 4)"
      ]
    },
    {
      "cell_type": "markdown",
      "source": [
        "#### But, why are we updating dA1 and not making a copy of it?\n",
        "\n",
        "Ans: The purpose of calculating dA1 and dZ1 is to ultimately calculate dW1 and db1.\n",
        "\n",
        "These are being used for intermediatory purpose.\n",
        "\n",
        "So, making changes in dA1 won't change anything as\n",
        "- we have already calculated dZ1\n",
        "- and we won't be using dA1 anywhere else except for calc. of dZ1"
      ],
      "metadata": {
        "id": "YVUhW7FHgXYo"
      }
    },
    {
      "cell_type": "markdown",
      "metadata": {
        "id": "WiqY9XlQrEWG"
      },
      "source": [
        "This also means that we need to save the intermediate output values from the forward pass.\n",
        "\n",
        "Finally, $dW^1$ and $db^1$ are calculated the same way we did earlier."
      ]
    },
    {
      "cell_type": "markdown",
      "source": [
        "#### Calculating $dW^1$ and $db^1$"
      ],
      "metadata": {
        "id": "3LFF0PybAePt"
      }
    },
    {
      "cell_type": "markdown",
      "source": [
        "<center><img src='https://drive.google.com/uc?id=1_XYrgF622SovKGbrcvlP0Aqh5JKECL6U' width=\"700\"></center>\n",
        "\n"
      ],
      "metadata": {
        "id": "LLIesEgw9DIc"
      }
    },
    {
      "cell_type": "markdown",
      "source": [
        "<center><img src='https://drive.google.com/uc?id=1SX20lELZhhIvKS2u4o7E3NsVJaIOpBqN' width=\"700\"></center>\n",
        "\n"
      ],
      "metadata": {
        "id": "Do9ZfbuJ-3V9"
      }
    },
    {
      "cell_type": "markdown",
      "source": [
        "$$ \\frac{∂L}{∂W^1} = \\frac{∂L}{∂A^2}.\\frac{∂A^2}{∂Z^2}.\\frac{∂Z^2}{∂A^1}.\\frac{∂A^1}{∂Z^1}.\\frac{∂Z^1}{∂W^1}$$\n",
        "\n",
        "We know that,\n",
        "\n",
        "$$\\frac{∂L}{∂A^2}.\\frac{∂A^2}{∂Z^2}.\\frac{∂Z^2}{∂A^1}.\\frac{∂A^1}{∂Z^1} = dZ^1 $$\n",
        "\n",
        "\n",
        "We have to calculate $\\frac{∂Z^1}{∂W^1}$\n",
        "\n",
        "$$\\frac{∂Z^1}{∂W^1} = \\frac{∂(W^1.X + b^1)}{∂W^1} = X $$\n",
        "\n",
        "\n",
        "So,\n",
        "\n",
        "$$ \\frac{∂L}{∂W^1} = dZ^1.X$$"
      ],
      "metadata": {
        "id": "0mRg94aC-2DT"
      }
    },
    {
      "cell_type": "markdown",
      "source": [
        "Similarly, for $db^1$"
      ],
      "metadata": {
        "id": "bA6kxrXi-9Yk"
      }
    },
    {
      "cell_type": "markdown",
      "source": [
        "<center><img src='https://drive.google.com/uc?id=1eEY30KJ_3NYX-kbhhXYz4dofWKvKWDZQ' width=\"700\"></center>\n",
        "\n",
        "\n",
        "\n"
      ],
      "metadata": {
        "id": "hlLgXqWJAlGT"
      }
    },
    {
      "cell_type": "markdown",
      "source": [
        "$$ \\frac{∂L}{∂b^1} = \\frac{∂L}{∂A^2}.\\frac{∂A^2}{∂Z^2}.\\frac{∂Z^2}{∂A^1}.\\frac{∂A^1}{∂Z^1}.\\frac{∂Z^1}{∂b^1}$$\n",
        "\n",
        "We know that,\n",
        "\n",
        "$$\\frac{∂L}{∂A^2}.\\frac{∂A^2}{∂Z^2}.\\frac{∂Z^2}{∂A^1}.\\frac{∂A^1}{∂Z^1} = dZ^1 $$\n",
        "\n",
        "\n",
        "We have to calculate $\\frac{∂Z^1}{∂b^1}$\n",
        "\n",
        "$$\\frac{∂Z^1}{∂b^1} = \\frac{∂(W^1.X + b^1)}{∂b^1} = 1 $$\n",
        "\n",
        "\n",
        "So,\n",
        "\n",
        "$$ \\frac{∂L}{∂b^1} = dZ^1.1$$"
      ],
      "metadata": {
        "id": "RyDoutBHA6hp"
      }
    },
    {
      "cell_type": "code",
      "execution_count": null,
      "metadata": {
        "id": "Cjju4gURrEWG"
      },
      "outputs": [],
      "source": [
        "dW1 = np.dot(X.T, dZ1)/m # (2, 300) x (300 ,4) => (2, 4)\n",
        "db1 = np.sum(dZ1, axis=0, keepdims=True)/m"
      ]
    },
    {
      "cell_type": "markdown",
      "source": [
        "Now that we've found these gradients, we update the weight and bias values as:-\n"
      ],
      "metadata": {
        "id": "-TxOQ2KE7uTp"
      }
    },
    {
      "cell_type": "code",
      "source": [
        "lr = 1e-0"
      ],
      "metadata": {
        "id": "DROjJjp16mEX"
      },
      "execution_count": null,
      "outputs": []
    },
    {
      "cell_type": "code",
      "source": [
        "# perform a parameter update\n",
        "W1 += -lr * dW1\n",
        "b1 += -lr * db1\n",
        "W2 += -lr * dW2\n",
        "b2 += -lr * db2"
      ],
      "metadata": {
        "id": "0dqRYm0472sQ"
      },
      "execution_count": null,
      "outputs": []
    },
    {
      "cell_type": "markdown",
      "source": [
        "This parameter updation is done untill it converges (error goes down)."
      ],
      "metadata": {
        "id": "-poceGqg8DIc"
      }
    },
    {
      "cell_type": "markdown",
      "source": [
        "#### Summarizing whole process"
      ],
      "metadata": {
        "id": "zumaZQ8xSIkG"
      }
    },
    {
      "cell_type": "markdown",
      "source": [
        "A single GD cycle for weight update looks like following :"
      ],
      "metadata": {
        "id": "07kHYWpqYioI"
      }
    },
    {
      "cell_type": "markdown",
      "source": [
        "<center><img src='https://drive.google.com/uc?id=1XfiVgAan0dhRloAFkWr8SLbKMVHk_3ww' width=\"700\"></center>\n",
        "\n",
        "\n"
      ],
      "metadata": {
        "id": "7KuROszgR5dq"
      }
    },
    {
      "cell_type": "markdown",
      "source": [
        "Let's write all the derivatives"
      ],
      "metadata": {
        "id": "iiKhmBIKSPiv"
      }
    },
    {
      "cell_type": "markdown",
      "source": [
        "<center><img src='https://drive.google.com/uc?id=1YMOO4MkXGq80WsZsptjPPQB1-SeZ-jvF' width=\"500\"></center>\n",
        "\n"
      ],
      "metadata": {
        "id": "EqWO9qhHRzq5"
      }
    },
    {
      "cell_type": "markdown",
      "source": [
        "Notice that,\n",
        "- We use dZ2 for calculation of dW2, db2 and dA1.\n",
        "- similarly, we use dA1 for calculation of dZ1.\n",
        "- and dZ1 for calculation of dW1 and db1."
      ],
      "metadata": {
        "id": "trW6kaFfSd8X"
      }
    },
    {
      "cell_type": "markdown",
      "source": [
        "So, in order to not calculate value of deeper derivaties i.e dA1, dZ1 again and again\n",
        "- we calculate and store the derivatives of deeper layer\n",
        "- so as we can use them to calculate derivative of shallow layers\n",
        "\n",
        "This is called as **memoization**\n",
        "- also used in **dynamic programming**"
      ],
      "metadata": {
        "id": "9rm0ZvgYS1_N"
      }
    },
    {
      "cell_type": "markdown",
      "source": [
        "#### Simplfying the single cycle of updation"
      ],
      "metadata": {
        "id": "RGStIXhXZKZx"
      }
    },
    {
      "cell_type": "markdown",
      "source": [
        "<center><img src='https://drive.google.com/uc?id=1a7bjDa3R-2e7MShYCbPCqJ-m8R8lJM7_' width=\"700\"></center>\n",
        "\n"
      ],
      "metadata": {
        "id": "oU8lcUtGWrTR"
      }
    },
    {
      "cell_type": "markdown",
      "source": [
        "While performing forward prop,\n",
        "- we store/cache the value of $Z^j, W^j, b^j$ in order to use them during back prop\n",
        "- For example: dA1 uses $w^2$ for its calculation."
      ],
      "metadata": {
        "id": "e8uzmQuUYyim"
      }
    },
    {
      "cell_type": "markdown",
      "metadata": {
        "id": "M-nWDh_IrEWG"
      },
      "source": [
        "Done! Let's put everything together."
      ]
    },
    {
      "cell_type": "code",
      "execution_count": null,
      "metadata": {
        "id": "YCaMRBxKrEWG",
        "outputId": "e36733cf-350b-461d-e400-6caf26f1fefc",
        "colab": {
          "base_uri": "https://localhost:8080/"
        }
      },
      "outputs": [
        {
          "output_type": "stream",
          "name": "stdout",
          "text": [
            "iteration 0: loss 1.098661\n",
            "iteration 1000: loss 0.340004\n",
            "iteration 2000: loss 0.266893\n",
            "iteration 3000: loss 0.256200\n",
            "iteration 4000: loss 0.253119\n",
            "iteration 5000: loss 0.252083\n",
            "iteration 6000: loss 0.251621\n",
            "iteration 7000: loss 0.251314\n",
            "iteration 8000: loss 0.251100\n",
            "iteration 9000: loss 0.250901\n"
          ]
        }
      ],
      "source": [
        "# initialize parameters randomly\n",
        "d = 2\n",
        "h = 100 # size of hidden layer\n",
        "n = 3\n",
        "W1 = 0.01 * np.random.randn(d,h)\n",
        "b1 = np.zeros((1,h))\n",
        "W2 = 0.01 * np.random.randn(h,n)\n",
        "b2 = np.zeros((1,n))\n",
        "\n",
        "# some hyperparameters\n",
        "lr = 1e-0\n",
        "reg = 1e-3 # regularization strength\n",
        "num_examples = X.shape[0]\n",
        "\n",
        "for i in range(10000):\n",
        "\n",
        "    # forward prop\n",
        "    Z1 = np.dot(X, W1) + b1\n",
        "    A1 = np.maximum(0, Z1)\n",
        "    Z2 = np.dot(A1, W2) + b2\n",
        "    Z2 = np.exp(Z2)\n",
        "    A2 = Z2 / np.sum(Z2, axis=1, keepdims=True)\n",
        "    probs = A2\n",
        "\n",
        "    # calc. loss\n",
        "    correct_logprobs = -np.log(probs[range(num_examples),y])\n",
        "    data_loss = np.sum(correct_logprobs)/num_examples\n",
        "    # regularization\n",
        "    loss = data_loss # adding reg. to loss\n",
        "    if i % 1000 == 0:\n",
        "        print(\"iteration %d: loss %f\" % (i, loss))\n",
        "\n",
        "    # backprop\n",
        "    # compute the gradient on scores\n",
        "    dZ2 = probs\n",
        "    dZ2[range(num_examples),y] -= 1\n",
        "    dZ2 /= num_examples\n",
        "\n",
        "    # first backprop into parameters W2 and b2\n",
        "    dW2 = np.dot(A1.T, dZ2)\n",
        "    db2 = np.sum(dZ2, axis=0, keepdims=True)\n",
        "    # next backprop into hidden layer, A1\n",
        "    dA1 = np.dot(dZ2, W2.T)\n",
        "    # backprop the ReLU non-linearity\n",
        "    dA1[Z1 <= 0] = 0\n",
        "    # finally into W,b\n",
        "    dZ1 = dA1\n",
        "    dW1 = np.dot(X.T, dZ1)\n",
        "    db1 = np.sum(dZ1, axis=0, keepdims=True)\n",
        "\n",
        "    # add regularization gradient contribution\n",
        "\n",
        "\n",
        "    # perform a parameter update\n",
        "    W1 += -lr * dW1\n",
        "    b1 += -lr * db1\n",
        "    W2 += -lr * dW2\n",
        "    b2 += -lr * db2"
      ]
    },
    {
      "cell_type": "markdown",
      "metadata": {
        "id": "xhEtzZUHrEWH"
      },
      "source": [
        "#### NN class - all code wrapped as class"
      ]
    },
    {
      "cell_type": "code",
      "execution_count": null,
      "metadata": {
        "id": "04v7YLXurEWH",
        "colab": {
          "base_uri": "https://localhost:8080/"
        },
        "outputId": "120a92f2-a3a3-4662-dd42-f2312c685a7d"
      },
      "outputs": [
        {
          "output_type": "stream",
          "name": "stdout",
          "text": [
            "iteration 0: loss 1.098567\n",
            "iteration 1000: loss 0.397011\n",
            "iteration 2000: loss 0.266143\n",
            "iteration 3000: loss 0.253787\n",
            "iteration 4000: loss 0.252140\n",
            "iteration 5000: loss 0.251514\n",
            "iteration 6000: loss 0.251190\n",
            "iteration 7000: loss 0.250905\n",
            "iteration 8000: loss 0.250834\n",
            "iteration 9000: loss 0.250677\n",
            "training accuracy: 0.99\n"
          ]
        }
      ],
      "source": [
        "class NN:\n",
        "\n",
        "    def __init__(self, n_features, n_hidden, n_classes):\n",
        "        self.d = n_features\n",
        "        self.h = n_hidden\n",
        "        self.n = n_classes\n",
        "        self.W1 = 0.01 * np.random.randn(self.d, self.h)\n",
        "        self.b1 = np.zeros((1,self.h))\n",
        "        self.W2 = 0.01 * np.random.randn(self.h,self.n)\n",
        "        self.b2 = np.zeros((1,self.n))\n",
        "\n",
        "    def fwd_prop(self, X):\n",
        "        Z1 = np.dot(X, self.W1) + self.b1\n",
        "        A1 = np.maximum(0, Z1)\n",
        "        Z2 = np.dot(A1, self.W2) + self.b2\n",
        "        Z2 = np.exp(Z2)\n",
        "        A2 = Z2 / np.sum(Z2, axis=1, keepdims=True)\n",
        "        return A1, A2\n",
        "\n",
        "    def cce_loss(self, y, probs):\n",
        "        num_examples = y.shape[0]\n",
        "        correct_logprobs = -np.log(probs[range(num_examples),y])\n",
        "        loss = np.sum(correct_logprobs)/num_examples\n",
        "        return loss\n",
        "\n",
        "    def back_prop(self, X, A1, A2, y):\n",
        "        # compute the gradient on scores\n",
        "        num_examples = y.shape[0]\n",
        "        dZ2 = A2\n",
        "        dZ2[range(num_examples),y] -= 1\n",
        "        dZ2 /= num_examples\n",
        "        # first backprop into parameters W2 and b2\n",
        "        dW2 = np.dot(A1.T, dZ2)\n",
        "        db2 = np.sum(dZ2, axis=0, keepdims=True)\n",
        "        # next backprop into hidden layer, A1\n",
        "        dA1 = np.dot(dZ2, self.W2.T)\n",
        "        # backprop the ReLU non-linearity\n",
        "        dA1[A1 <= 0] = 0\n",
        "        # finally into W,b\n",
        "        dZ1 = dA1\n",
        "        dW1 = np.dot(X.T, dZ1)\n",
        "        db1 = np.sum(dZ1, axis=0, keepdims=True)\n",
        "        return dW1, db1, dW2, db2\n",
        "\n",
        "    def fit(self, X, lr, reg, max_iters):\n",
        "        num_examples = X.shape[0]\n",
        "        for i in range(max_iters):\n",
        "            #foward prop\n",
        "            A1, A2 = self.fwd_prop(X)\n",
        "            # calculate loss\n",
        "            data_loss = self.cce_loss(y, A2)\n",
        "            reg_loss = 0.5*reg*np.sum(self.W1*self.W1) + 0.5*reg*np.sum(self.W2*self.W2)\n",
        "            loss = data_loss + reg_loss\n",
        "\n",
        "            if i % 1000 == 0:\n",
        "                print(\"iteration %d: loss %f\" % (i, loss))\n",
        "\n",
        "            dW1, db1, dW2, db2  = self.back_prop(X, A1, A2, y)\n",
        "\n",
        "            # add regularization gradient contribution\n",
        "            dW2 += reg * self.W2\n",
        "            dW1 += reg * self.W1\n",
        "\n",
        "            # perform a parameter update\n",
        "            self.W1 += -lr * dW1\n",
        "            self.b1 += -lr * db1\n",
        "            self.W2 += -lr * dW2\n",
        "            self.b2 += -lr * db2\n",
        "\n",
        "    def predict(self, X):\n",
        "        A1 = np.maximum(0, np.dot(X, self.W1) + self.b1) # ReLU(Z1) = ReLU(W1T. X + b1)\n",
        "        Z2 = np.dot(A1, self.W2) + self.b2 # Z2 = W2T.A1 + b2 => 3 probab\n",
        "        y_hat = np.argmax(Z2, axis=1) # taking index of max probab\n",
        "        return y_hat\n",
        "\n",
        "nn_model = NN(n_features=2, n_hidden=100, n_classes=3)\n",
        "nn_model.fit(X, lr=1, reg=1e-3, max_iters=10000)\n",
        "print('training accuracy: %.2f' % (np.mean(nn_model.predict(X) == y)))"
      ]
    },
    {
      "cell_type": "code",
      "source": [
        "from matplotlib import pyplot as plt"
      ],
      "metadata": {
        "id": "u_4VUY4OBtvn"
      },
      "execution_count": null,
      "outputs": []
    },
    {
      "cell_type": "code",
      "execution_count": null,
      "metadata": {
        "id": "zCXe-zVirEWH",
        "outputId": "310908d7-1619-4f35-e43f-648c01f0674b",
        "colab": {
          "base_uri": "https://localhost:8080/",
          "height": 430
        }
      },
      "outputs": [
        {
          "output_type": "display_data",
          "data": {
            "text/plain": [
              "<Figure size 640x480 with 1 Axes>"
            ],
            "image/png": "[encoded data removed]"
          },
          "metadata": {}
        }
      ],
      "source": [
        "# create a 2D grid\n",
        "step = 0.02\n",
        "x_min, x_max = X[:, 0].min() - 1, X[:, 0].max() + 1\n",
        "y_min, y_max = X[:, 1].min() - 1, X[:, 1].max() + 1\n",
        "xx, yy = np.meshgrid(np.arange(x_min, x_max, step), np.arange(y_min, y_max, step))\n",
        "\n",
        "# predict for all the points in the grid\n",
        "\n",
        "y_hat = nn_model.predict(np.c_[xx.ravel(), yy.ravel()])\n",
        "y_hat = y_hat.reshape(xx.shape)\n",
        "\n",
        "# plot\n",
        "fig = plt.figure()\n",
        "plt.contourf(xx, yy, y_hat, cmap=plt.cm.Spectral, alpha=0.8)\n",
        "plt.scatter(X[:, 0], X[:, 1], c=y, s=40, cmap=plt.cm.Spectral)\n",
        "plt.xlim(xx.min(), xx.max())\n",
        "plt.ylim(yy.min(), yy.max())\n",
        "plt.show()"
      ]
    },
    {
      "cell_type": "markdown",
      "metadata": {
        "id": "jNGUiHTGrEWI"
      },
      "source": [
        "---\n",
        "\n",
        "## Training a NN using sklearn - Multi layer perceptron (MLP)\n",
        "\n",
        "As mentioned earlier, each unit of a NN is also called as perceptron, NN is called as MLP"
      ]
    },
    {
      "cell_type": "markdown",
      "source": [
        "sklearn MLPClassifier: https://scikit-learn.org/stable/modules/generated/sklearn.neural_network.MLPClassifier.html"
      ],
      "metadata": {
        "id": "j_J-a5sCB1pO"
      }
    },
    {
      "cell_type": "code",
      "execution_count": null,
      "metadata": {
        "id": "UvwXziTSrEWI",
        "outputId": "5201a091-f7e8-4fd7-816d-785e06373665",
        "colab": {
          "base_uri": "https://localhost:8080/"
        }
      },
      "outputs": [
        {
          "output_type": "stream",
          "name": "stdout",
          "text": [
            "0.9933333333333333\n"
          ]
        }
      ],
      "source": [
        "from sklearn.neural_network import MLPClassifier\n",
        "mlp = MLPClassifier(solver='lbfgs',\n",
        "                    alpha=1e-5,\n",
        "                    hidden_layer_sizes=(100),\n",
        "                    random_state=100,\n",
        "                    activation='relu',\n",
        "                    max_iter=200)\n",
        "mlp.fit(X, y)\n",
        "print(mlp.score(X, y))"
      ]
    },
    {
      "cell_type": "code",
      "execution_count": null,
      "metadata": {
        "id": "aErW-ChTrEWJ",
        "outputId": "ce29c7f3-aaae-468b-a708-baa2dbd89aa6",
        "colab": {
          "base_uri": "https://localhost:8080/"
        }
      },
      "outputs": [
        {
          "output_type": "execute_result",
          "data": {
            "text/plain": [
              "2"
            ]
          },
          "metadata": {},
          "execution_count": 23
        }
      ],
      "source": [
        "len(mlp.coefs_)"
      ]
    },
    {
      "cell_type": "code",
      "execution_count": null,
      "metadata": {
        "id": "sOZ6DjhWrEWJ",
        "outputId": "4fee2cf2-5376-4cc8-f6dd-80515cf4be6e",
        "colab": {
          "base_uri": "https://localhost:8080/"
        }
      },
      "outputs": [
        {
          "output_type": "execute_result",
          "data": {
            "text/plain": [
              "2"
            ]
          },
          "metadata": {},
          "execution_count": 24
        }
      ],
      "source": [
        "len(mlp.intercepts_)"
      ]
    },
    {
      "cell_type": "code",
      "execution_count": null,
      "metadata": {
        "id": "2iS2c1R-rEWJ",
        "outputId": "de93ca17-cff6-447c-fbc8-218659a5e42a",
        "colab": {
          "base_uri": "https://localhost:8080/"
        }
      },
      "outputs": [
        {
          "output_type": "execute_result",
          "data": {
            "text/plain": [
              "0.012061771596620623"
            ]
          },
          "metadata": {},
          "execution_count": 25
        }
      ],
      "source": [
        "mlp.loss_"
      ]
    },
    {
      "cell_type": "code",
      "execution_count": null,
      "metadata": {
        "id": "hSnNjcFGrEWK",
        "outputId": "f23a259a-fb9e-454c-a318-7cd5aa0a0ea2",
        "colab": {
          "base_uri": "https://localhost:8080/",
          "height": 430
        }
      },
      "outputs": [
        {
          "output_type": "display_data",
          "data": {
            "text/plain": [
              "<Figure size 640x480 with 1 Axes>"
            ],
            "image/png": "[encoded data removed]"
          },
          "metadata": {}
        }
      ],
      "source": [
        "# create a 2D grid\n",
        "step = 0.02\n",
        "x_min, x_max = X[:, 0].min() - 1, X[:, 0].max() + 1\n",
        "y_min, y_max = X[:, 1].min() - 1, X[:, 1].max() + 1\n",
        "xx, yy = np.meshgrid(np.arange(x_min, x_max, step), np.arange(y_min, y_max, step))\n",
        "\n",
        "# predict for all the points in the grid\n",
        "y_hat = mlp.predict(np.c_[xx.ravel(), yy.ravel()])\n",
        "y_hat = y_hat.reshape(xx.shape)\n",
        "\n",
        "# plot\n",
        "fig = plt.figure()\n",
        "plt.contourf(xx, yy, y_hat, cmap=plt.cm.Spectral, alpha=0.8)\n",
        "plt.scatter(X[:, 0], X[:, 1], c=y, s=40, cmap=plt.cm.Spectral)\n",
        "plt.xlim(xx.min(), xx.max())\n",
        "plt.ylim(yy.min(), yy.max())\n",
        "plt.show()"
      ]
    },
    {
      "cell_type": "markdown",
      "metadata": {
        "id": "1mbrlh7frEWI"
      },
      "source": [
        "Till now, we saw how to solve classification using NN.\n",
        "\n",
        "#### Question: Can we use Neural Networks for Regression task?\n",
        "\n"
      ]
    },
    {
      "cell_type": "markdown",
      "metadata": {
        "id": "Oc_BXJfG3DC4"
      },
      "source": [
        "![image.png](data:image/png;base64,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)"
      ]
    },
    {
      "cell_type": "markdown",
      "metadata": {
        "id": "hTRKeMYQ3CkC"
      },
      "source": [
        "\n",
        "If the last neuron in chain is:\n",
        "- Linear --> then NeuralNet will do regression. Ex: y = x\n",
        "        --W1--(S)--W2--(S)--W3--(/)--\n",
        "- Probabilistic (Sigmoid/softmax) --> NeuralNet will do classification. Ex: y = sig(x)\n",
        "        --W1--(S)--W2--(S)--W3--(S)--\n",
        "        \n",
        "<br>\n",
        "\n",
        "#### Question: What about activations of intermediate layers? Should that be linear too?\n",
        "\n",
        "No, then, NN wouldn't be able to create high order complex features\n",
        "\n",
        "As discussed earlier, the activations in intermediate layers should always be non-linear."
      ]
    },
    {
      "cell_type": "markdown",
      "metadata": {
        "id": "aPmPY3l3rEWK"
      },
      "source": [
        "In the next class, we will study a popular framework to called Tensorflow which will be helpful in working with various other kinds of Neural Networks"
      ]
    },
    {
      "cell_type": "code",
      "source": [
        "Tensorflow and Pytorch"
      ],
      "metadata": {
        "id": "kwp3TWM14ibB"
      },
      "execution_count": null,
      "outputs": []
    }
  ]
}